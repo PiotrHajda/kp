{
 "cells": [
  {
   "cell_type": "code",
   "execution_count": 1,
   "metadata": {
    "collapsed": true
   },
   "outputs": [],
   "source": [
    "l = [1,[2,[3,4],5],6,7,[8],9,10,[11,12,[13,14],15],16,[17,18,[[19,20,21,22,23],24],[25,26],27],28]\n",
    "#Dostań się do podanej lub podanych wartości przez indeksowanie\n",
    "# 5\n",
    "# 4\n",
    "# 10\n",
    "# [[2, [3, 4], 5], 6, 7, [8]]\n",
    "# [11, [13, 14]]\n",
    "# 24\n",
    "# 8\n",
    "# [23, 22, 21, 20, 19]"
   ]
  },
  {
   "cell_type": "code",
   "execution_count": 8,
   "metadata": {
    "scrolled": true
   },
   "outputs": [
    {
     "name": "stdout",
     "output_type": "stream",
     "text": [
      "5\n",
      "4\n",
      "10\n",
      "[[2, [3, 4], 5], 6, 7, [8]]\n",
      "11 [13, 14]\n",
      "24\n",
      "[8]\n",
      "[23, 22, 21, 20, 19]\n"
     ]
    }
   ],
   "source": [
    "print(l[1][2])\n",
    "print(l[1][1][1])\n",
    "print(l[6])\n",
    "print(l[1:5])\n",
    "print(l[7][0], l[7][2])\n",
    "print(l[-2][-3][1])\n",
    "print(l[4])\n",
    "x = l[-2][-3][0]\n",
    "posortowane = sorted(x, reverse = True)\n",
    "print(posortowane)"
   ]
  },
  {
   "cell_type": "code",
   "execution_count": null,
   "metadata": {
    "collapsed": true
   },
   "outputs": [],
   "source": []
  }
 ],
 "metadata": {
  "kernelspec": {
   "display_name": "Python 3",
   "language": "python",
   "name": "python3"
  },
  "language_info": {
   "codemirror_mode": {
    "name": "ipython",
    "version": 3
   },
   "file_extension": ".py",
   "mimetype": "text/x-python",
   "name": "python",
   "nbconvert_exporter": "python",
   "pygments_lexer": "ipython3",
   "version": "3.6.3"
  }
 },
 "nbformat": 4,
 "nbformat_minor": 2
}
